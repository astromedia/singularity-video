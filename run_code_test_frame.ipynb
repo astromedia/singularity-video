{
 "cells": [
  {
   "cell_type": "markdown",
   "metadata": {},
   "source": [
    "# Singularity Videos - Testing\n",
    "\n",
    "### Pablo Jimeno - 2018\n",
    "\n",
    "Using data from the Wide-field Infrared Survey Explorer (WISE) [https://wise.ssl.berkeley.edu]"
   ]
  },
  {
   "cell_type": "code",
   "execution_count": null,
   "metadata": {},
   "outputs": [],
   "source": [
    "test_run = True"
   ]
  },
  {
   "cell_type": "markdown",
   "metadata": {},
   "source": [
    "## Load libraries:\n",
    "\n",
    "Select the working directory where folders will be created."
   ]
  },
  {
   "cell_type": "code",
   "execution_count": null,
   "metadata": {},
   "outputs": [],
   "source": [
    "## Set the project directory.\n",
    "#project_dir = '/path/to/project/dir'\n",
    "project_dir = '/home/pablo/VideoArte/singularity_video'\n",
    "\n",
    "\n",
    "## Loads code functions and creates folders.\n",
    "%run './utils/utils_main.ipynb'\n",
    "create_folders(new_project=True) # Set \"new_project=True\" if you want to start off clean.\n",
    "\n",
    "## Loads default configuration. To edit more technical defaults, check \"utils_main\" notebook.\n",
    "config = Configuration()"
   ]
  },
  {
   "cell_type": "markdown",
   "metadata": {},
   "source": [
    "## Configure video:\n",
    "\n",
    "This is the configuration used for \"Singularity #4\"."
   ]
  },
  {
   "cell_type": "code",
   "execution_count": null,
   "metadata": {},
   "outputs": [],
   "source": [
    "#-------------------------------------------------------------------------\n",
    "# Aspect ratio: options are '16:9', '4:3', and '1:1'.\n",
    "config.set_video_format('16:9')\n",
    "\n",
    "#-------------------------------------------------------------------------\n",
    "# Width of the video, in pixels [Default is 1280].\n",
    "# In 16:9 format, 1280 implies frames of 1280x720, and 1920 implies 1920x1080\n",
    "config.set_video_pix(1920)\n",
    "\n",
    "#-------------------------------------------------------------------------\n",
    "# Width of the horizontal black stripes in the top and the bottom of the video [Default is 60].\n",
    "config.set_video_pixblackstripes(60)\n",
    "\n",
    "#-------------------------------------------------------------------------\n",
    "# Video properties: fps, fpi (\"cluster interpolation speed\"), and duration.\n",
    "fps = 48 # Frames per second\n",
    "fpi = 18 # Frames per cluster image\n",
    "video_duration = 179.5 # Duration of video\n",
    "config.set_video_info(fps, fpi, video_duration)\n",
    "\n",
    "#-------------------------------------------------------------------------\n",
    "# Especify dpi of screen [Default is 100]\n",
    "#config.set_my_dpi(mydpi)\n",
    "\n",
    "#-------------------------------------------------------------------------\n",
    "# Beginning & end properties, and credits duration.\n",
    "config.set_intro(1.5, 3.5, 3.) # Intro credits duration: (no text, text, no text) in seconds.\n",
    "config.set_credits(3., 8., 2.) # Final credits duration: (no text, text, no text) in seconds.\n",
    "config.set_t_offset_start(0.05) # Offset at start. This needs to be hand-tuned to sincronize audio-video.\n",
    "config.set_t_black_start(0.05) # Black frame offset at start. This needs be hand-tuned to sincronize audio-video.\n",
    "\n",
    "#-------------------------------------------------------------------------\n",
    "# Display info of video:\n",
    "config.display_video_info()"
   ]
  },
  {
   "cell_type": "markdown",
   "metadata": {},
   "source": [
    "## Load redMaPPer cluster catalog:\n",
    "\n",
    "Catalogue should be placed in the \"cluster_catalogue\" project folder."
   ]
  },
  {
   "cell_type": "code",
   "execution_count": null,
   "metadata": {},
   "outputs": [],
   "source": [
    "#redm_filedir = '/path/to/catalogue/file.fits' \n",
    "redm_filedir = '%s/cluster_catalogue/redMaPPer_DR12_v6.3.fits' % project_dir # Change if using another catalogue.\n",
    "raw_redm = create_raw_sample()\n",
    "redm = create_redm_subsample(raw_redm, config.rich_cutoff, config.z_min, config.z_max)"
   ]
  },
  {
   "cell_type": "markdown",
   "metadata": {},
   "source": [
    "## Load audio file & process it:"
   ]
  },
  {
   "cell_type": "code",
   "execution_count": null,
   "metadata": {},
   "outputs": [],
   "source": [
    "audio_file = '%s/sound_samples/singularity_soundtrack.wav' % project_dir\n",
    "\n",
    "raw_audio_data = wavfile.read(audio_file)\n",
    "audio_rate, audio_n_samples, audio_data = wav_analysis(raw_audio_data)\n",
    "audio_data = audio_data[:,0] # Work with channel 1 from now on\n",
    "\n",
    "config.set_audio_info(audio_rate, audio_n_samples)"
   ]
  },
  {
   "cell_type": "markdown",
   "metadata": {},
   "source": [
    "## Configure the effects on the video as a function of the audio clip features:\n",
    "\n",
    "This part needs to be hand-tuned for each different audio clip and desired effects. Seems obscure, but it's not. Just play with these numbers and display the result.\n",
    "\n",
    "This is the configuration used for \"Singularity #4\"."
   ]
  },
  {
   "cell_type": "code",
   "execution_count": null,
   "metadata": {},
   "outputs": [],
   "source": [
    "#-------------------------------------------------------------------------\n",
    "# Drum beat\n",
    "drum = Sonido(config, 'drum')\n",
    "drum.set_start(12.05)\n",
    "drum.set_rate(0.75)\n",
    "drum.set_nbeats(16 + 32*4)\n",
    "\n",
    "for i in range(16):\n",
    "    drum.add_effect_gauss_bump(1., 0.09, drum.start + i*drum.rate)\n",
    "    \n",
    "for i in range(32):\n",
    "    drum.add_effect_gauss_bump(1., 0.09, drum.start + 17*drum.rate + i*4*drum.rate + 0*drum.rate)\n",
    "    drum.add_effect_gauss_bump(1., 0.09, drum.start + 17*drum.rate + i*4*drum.rate + 1*drum.rate)\n",
    "    drum.add_effect_gauss_bump(1., 0.09, drum.start + 17*drum.rate + i*4*drum.rate + 2*drum.rate)\n",
    "    \n",
    "    \n",
    "#-------------------------------------------------------------------------\n",
    "# Sierra\n",
    "sierra = Sonido(config, 'sierra')\n",
    "sierra.set_start(24.15) \n",
    "sierra.set_rate(3.)\n",
    "sierra.set_nbeats(41)\n",
    "\n",
    "for i in range(sierra.nbeats):\n",
    "    sierra.add_effect_step(1., 0.65, sierra.start + i*sierra.rate)\n",
    "    \n",
    "\n",
    "#-------------------------------------------------------------------------\n",
    "# Platos - BH size\n",
    "platos = Sonido(config, 'platos')\n",
    "platos.set_start(48.)\n",
    "platos.set_end(156.3)\n",
    "platos.set_rate(0.75/8)\n",
    "platos.set_nbeats(96)\n",
    "\n",
    "platos.add_constant(0.3, platos.start, platos.end)\n",
    "\n",
    "for i in range(4*platos.nbeats):\n",
    "    platos.add_effect_prop_gauss_bump(0.1, 0.025, platos.start + i*platos.rate*2.)\n",
    "for i in range(platos.nbeats):\n",
    "    platos.add_effect_prop_gauss_bump(0.1, 0.025, platos.start + platos.rate + i*platos.rate*8.)\n",
    "\n",
    "    \n",
    "#-------------------------------------------------------------------------\n",
    "# White hole\n",
    "bateria = Sonido(config, 'bateria')\n",
    "bateria.add_effect_step(1, 0.4, 156+0.75/2)\n",
    "\n",
    "\n",
    "#-------------------------------------------------------------------------\n",
    "# Bateria 72 -\n",
    "platos.add_slope(0., 0.6, 72., 96.)\n",
    "platos.add_constant(0.6, 96., 156.3+0.75/2)\n",
    "\n",
    "\n",
    "#-------------------------------------------------------------------------\n",
    "# Horns (Platos)\n",
    "for i in range(8):\n",
    "    platos.add_slope(i*1./8, (i+3)*1./8, 96.45 + i*3., 96.45 + i*3. + 1.5)\n",
    "    platos.add_slope((i+3)*1./8, (i+1)*1./8, 96.45 + i*3. + 1.5, 96.45 + (i+1)*3.)\n",
    "    \n",
    "platos.add_slope(1.1, 3.4, 120., 144.)\n",
    "platos.add_slope(3.4, 25., 144.45, 156.3+0.75/2)\n",
    "\n",
    "\n",
    "#-------------------------------------------------------------------------\n",
    "# Final\n",
    "final = Sonido(config, 'final')\n",
    "final.set_start(156.05+0.75/2) \n",
    "final.set_rate(0.75)\n",
    "final.set_nbeats(np.int(24/0.75))\n",
    "\n",
    "final.add_constant(-20., 0., final.start)\n",
    "final.add_constant(0.1, final.start, config.video_duration)\n",
    "\n",
    "for i in range(final.nbeats):\n",
    "    final.add_effect_gauss_bump(20., 0.1, final.start + i*final.rate)\n",
    "    \n",
    "    \n",
    "#-------------------------------------------------------------------------\n",
    "# Fade to black\n",
    "ftb = Sonido(config, 'ftb')\n",
    "ftb.set_start(config.video_duration - 10.) \n",
    "ftb.set_end(config.video_duration)\n",
    "\n",
    "ftb.add_constant(1., 0., ftb.start)\n",
    "ftb.add_constant(-1., 156.2+0.75/2, 156.4+0.75/2)\n",
    "\n",
    "ftb.add_slope(1., 0., ftb.start, ftb.end)\n",
    "\n",
    "\n",
    "#-------------------------------------------------------------------------\n",
    "# Clear overlaps:    \n",
    "\n",
    "#drum.add_amp(-1000.*sierra.amp_frames)\n",
    "platos.add_amp(-1000.*sierra.amp_frames)\n",
    "final.add_amp(-1000.*bateria.amp_frames)\n",
    "bateria.add_amp(-1000.*sierra.amp_frames)\n",
    "\n",
    "\n",
    "#=================================================================================================================\n",
    "## Use this to plot and check the sound/effects sequence.\n",
    "if 0:\n",
    "    sounds = [drum, sierra, platos, bateria, final, ftb] # The sound/effects you want to check\n",
    "    v_start, v_end = 115., 159 # x-axis range\n",
    "    max_val = 20. # y-axis max value\n",
    "    plot_sounds_amplitude(config, max_val, audio_data, sounds, v_start, v_end)"
   ]
  },
  {
   "cell_type": "markdown",
   "metadata": {},
   "source": [
    "## Download images from WISE server and process them:\n",
    "\n",
    "(This may take some time if it is the first time it runs)"
   ]
  },
  {
   "cell_type": "code",
   "execution_count": null,
   "metadata": {},
   "outputs": [],
   "source": [
    "if 1:\n",
    "    generate_new_images(delete_fits=False, delete_npys=False, delete_pngs=False)\n",
    "    wise_band = 1 # WISE satellite infrared bands: 1, 2, 3 or 4 (Recommended: 1 or 2).\n",
    "    clu_images = 1000 # Pick a number large enough to have some sampling variance in each run.\n",
    "    wise_meta = generate_images(redm, config, wise_band, clu_images=clu_images, produce_png=False)    "
   ]
  },
  {
   "cell_type": "markdown",
   "metadata": {},
   "source": [
    "## Create interpolation:\n",
    "\n",
    "Create new random realization of sequence of images, taking into account two sounds, and create the interpolated data-frames used to generate the final effect-frames.\n",
    "\n",
    "(This may take some time)."
   ]
  },
  {
   "cell_type": "code",
   "execution_count": null,
   "metadata": {},
   "outputs": [],
   "source": [
    "if 1:\n",
    "    sounds = [drum, sierra]\n",
    "    sequence_ids = order_images(wise_meta, config, sounds)\n",
    "    create_interp_frames(sequence_ids, config, wise_band, renew=False)"
   ]
  },
  {
   "cell_type": "markdown",
   "metadata": {},
   "source": [
    "## Test effects on particular frames:\n",
    "\n",
    "Play with the numbers to adjust effects."
   ]
  },
  {
   "cell_type": "code",
   "execution_count": null,
   "metadata": {},
   "outputs": [],
   "source": [
    "frame_check = 150 # Choose frame number\n",
    "\n",
    "frame = Frame(config, frame_check)\n",
    "frame.load()\n",
    "image = frame.image_data\n",
    "\n",
    "#=================================================================================================================\n",
    "## Choose effect to display:\n",
    "#image = add_gaussian_2D(image, width, amp)\n",
    "#image = add_whitehole(image, origin_image, width)\n",
    "#image = add_blackmask(image, width, amp)\n",
    "#image = add_fade_ring(image, width1, width2, amp1, amp2)\n",
    "#image = add_blackhole(image, width, amp)\n",
    "#image = convolve_image(image, size_kernel=5.)\n",
    "#image = apply_aperture_mask(image, aperture=1., inverse=False)\n",
    "#image = fft_filtering(image, filter_aperture, inverse)\n",
    "#image = fancy_mask_effect(image)\n",
    "#image = crop_borders_effect(image, crop_amp)\n",
    "#image = norm_image_percentil(image, perc_down=0., perc_up=100., perc_norm_up=-1)\n",
    "#image = norm_image_absolute(image, nabs_down=1., nabs_up=np.inf)\n",
    "#image = norm_image_histogram(image, norm_down=1., norm_up=20.)\n",
    "#image = effect_base(image)\n",
    "#image = effect_mask(image, amp)\n",
    "#image = effect_fft(image, amp, aperture)\n",
    "#image = effect_fft_inv(image, amp, aperture)\n",
    "#image = effect_blackhole(image, width)\n",
    "#image = effect_whitehole(image, width)\n",
    "#image = effect_blackwhitehole(image, width, whiteon)\n",
    "#image = effect_singularity(image, amp, aperture)\n",
    "#image = effect_singularity_v1(image, amp, aperture)\n",
    "#image = effect_fade_to_black(image, amp)\n",
    "\n",
    "image = effect_blackhole(image, 2.)\n",
    "\n",
    "#-------------------------------------------------------------------------\n",
    "## Prepare image:\n",
    "image = display_image(config, image)\n",
    "image = effect_prepare_border(image, 10.)\n",
    "\n",
    "#-------------------------------------------------------------------------\n",
    "## Set plotting options:\n",
    "frame.set_image_data(image)\n",
    "frame.set_img_v_max(10.)\n",
    "frame.set_img_cmap('bone')\n",
    "\n",
    "#=================================================================================================================\n",
    "## Plot output:\n",
    "frame.save_png(test=True)"
   ]
  }
 ],
 "metadata": {
  "kernelspec": {
   "display_name": "Python 3",
   "language": "python",
   "name": "python3"
  },
  "language_info": {
   "codemirror_mode": {
    "name": "ipython",
    "version": 3
   },
   "file_extension": ".py",
   "mimetype": "text/x-python",
   "name": "python",
   "nbconvert_exporter": "python",
   "pygments_lexer": "ipython3",
   "version": "3.6.7"
  }
 },
 "nbformat": 4,
 "nbformat_minor": 1
}
